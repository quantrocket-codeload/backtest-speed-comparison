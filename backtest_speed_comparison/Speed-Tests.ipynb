{
 "cells": [
  {
   "cell_type": "code",
   "execution_count": 34,
   "id": "5e4da9c2-cc0e-4215-ac93-79a5c3987d3d",
   "metadata": {},
   "outputs": [],
   "source": [
    "from quantrocket.zipline import backtest as backtest_zipline\n",
    "from quantrocket.moonshot import backtest as backtest_moonshot"
   ]
  },
  {
   "cell_type": "markdown",
   "id": "f68cd847-e669-4df6-8f37-bfb4c8d73c70",
   "metadata": {},
   "source": [
    "## 2021 MacBook Pro M1"
   ]
  },
  {
   "cell_type": "markdown",
   "id": "6d06e060-4b0a-42f1-86d9-1c65188cef2c",
   "metadata": {},
   "source": [
    "### Small Universe (10 stocks)"
   ]
  },
  {
   "cell_type": "markdown",
   "id": "81e07abb-0af4-432a-bc55-e809330b6594",
   "metadata": {},
   "source": [
    "#### Zipline"
   ]
  },
  {
   "cell_type": "code",
   "execution_count": null,
   "id": "a747c364",
   "metadata": {},
   "outputs": [
    {
     "name": "stdout",
     "output_type": "stream",
     "text": [
      "CPU times: user 19.4 ms, sys: 30 ms, total: 49.4 ms\n",
      "Wall time: 11.4 s\n"
     ]
    }
   ],
   "source": [
    "%%time \n",
    "\n",
    "backtest_zipline(\"zipline_small_universe\",\n",
    "        start_date=\"2012-01-01\",\n",
    "        end_date=\"2021-12-31\",\n",
    "        capital_base=100e3,\n",
    "        filepath_or_buffer=\"zipline_small_universe.csv\"\n",
    ")"
   ]
  },
  {
   "cell_type": "markdown",
   "id": "1a14f9e6-25c5-4451-b3c0-9a3fb67bef86",
   "metadata": {},
   "source": [
    "#### Moonshot"
   ]
  },
  {
   "cell_type": "code",
   "execution_count": null,
   "id": "625cad77",
   "metadata": {},
   "outputs": [
    {
     "name": "stdout",
     "output_type": "stream",
     "text": [
      "CPU times: user 4.81 ms, sys: 2.74 ms, total: 7.55 ms\n",
      "Wall time: 836 ms\n"
     ]
    }
   ],
   "source": [
    "%%time\n",
    "\n",
    "backtest_moonshot(\n",
    "    \"moonshot-small-universe\",\n",
    "    start_date=\"2012-01-01\",\n",
    "    end_date=\"2022-01-01\",\n",
    "    filepath_or_buffer=\"moonshot-small-universe.csv\",\n",
    ")"
   ]
  },
  {
   "cell_type": "markdown",
   "id": "b2d6218c-60f5-4dcb-a186-a6ea9521ce4c",
   "metadata": {},
   "source": [
    "### Large Universe"
   ]
  },
  {
   "cell_type": "markdown",
   "id": "2dd2fc0b-33fa-4de0-8768-a272eb13b898",
   "metadata": {},
   "source": [
    "#### Zipline"
   ]
  },
  {
   "cell_type": "code",
   "execution_count": null,
   "id": "2a9cb88f",
   "metadata": {},
   "outputs": [
    {
     "name": "stdout",
     "output_type": "stream",
     "text": [
      "CPU times: user 481 ms, sys: 1.21 s, total: 1.69 s\n",
      "Wall time: 4min 36s\n"
     ]
    }
   ],
   "source": [
    "%%time \n",
    "\n",
    "backtest_zipline(\"zipline_large_universe\",\n",
    "        start_date=\"2012-01-01\",\n",
    "        end_date=\"2021-12-31\",\n",
    "        capital_base=100e3,\n",
    "        progress=\"Y\",\n",
    "        filepath_or_buffer=\"zipline_large_universe.csv\"\n",
    ")"
   ]
  },
  {
   "cell_type": "markdown",
   "id": "acf88d72-2fff-4254-b5ea-ab70ebd9b30c",
   "metadata": {},
   "source": [
    "#### Moonshot"
   ]
  },
  {
   "cell_type": "code",
   "execution_count": null,
   "id": "3dc48e02",
   "metadata": {},
   "outputs": [
    {
     "name": "stdout",
     "output_type": "stream",
     "text": [
      "CPU times: user 29.7 ms, sys: 0 ns, total: 29.7 ms\n",
      "Wall time: 44.3 s\n"
     ]
    }
   ],
   "source": [
    "%%time\n",
    "\n",
    "backtest_moonshot(\n",
    "    \"moonshot-large-universe\",\n",
    "    start_date=\"2012-01-01\",\n",
    "    end_date=\"2021-12-31\",\n",
    "    filepath_or_buffer=\"moonshot-large-universe.csv\",\n",
    "    segment=\"Y\"\n",
    ")"
   ]
  },
  {
   "cell_type": "markdown",
   "id": "75c8f6b1-0864-4caf-bd27-4f8d35a22f15",
   "metadata": {},
   "source": [
    "## 2014 Mac Pro Intel"
   ]
  },
  {
   "cell_type": "markdown",
   "id": "b5d37555-d790-49a0-88b7-ac78f7078879",
   "metadata": {},
   "source": [
    "### Large Universe"
   ]
  },
  {
   "cell_type": "markdown",
   "id": "107ab4ad-8d5b-4d16-aaf5-2e61af864314",
   "metadata": {},
   "source": [
    "#### Zipline"
   ]
  },
  {
   "cell_type": "code",
   "execution_count": null,
   "id": "9fb50b6c",
   "metadata": {},
   "outputs": [
    {
     "name": "stdout",
     "output_type": "stream",
     "text": [
      "CPU times: user 1.44 s, sys: 1.73 s, total: 3.17 s\n",
      "Wall time: 12min 16s\n"
     ]
    }
   ],
   "source": [
    "%%time \n",
    "backtest_zipline(\"zipline_large_universe\",\n",
    "        start_date=\"2012-01-01\",\n",
    "        end_date=\"2021-12-31\",\n",
    "        capital_base=100e3,\n",
    "        progress=\"Y\",\n",
    "        filepath_or_buffer=\"zipline_large_universe.csv\",\n",
    ")"
   ]
  },
  {
   "cell_type": "markdown",
   "id": "a870aeac-5a45-4370-a90f-73adaab3828a",
   "metadata": {},
   "source": [
    "#### Moonshot"
   ]
  },
  {
   "cell_type": "code",
   "execution_count": null,
   "id": "24491dca",
   "metadata": {},
   "outputs": [
    {
     "name": "stdout",
     "output_type": "stream",
     "text": [
      "CPU times: user 20.3 ms, sys: 14.2 ms, total: 34.5 ms\n",
      "Wall time: 3min 40s\n"
     ]
    }
   ],
   "source": [
    "%%time\n",
    "\n",
    "backtest_moonshot(\n",
    "    \"moonshot-large-universe\",\n",
    "    start_date=\"2012-01-01\",\n",
    "    end_date=\"2021-12-31\",\n",
    "    filepath_or_buffer=\"moonshot-large-universe.csv\",\n",
    "    segment=\"Y\"\n",
    ")"
   ]
  },
  {
   "cell_type": "markdown",
   "id": "1265aebf-5fd2-4874-8221-3018e83caee7",
   "metadata": {},
   "source": [
    "## Digital Ocean Basic Droplet, Shared CPU (4 VCPUs)"
   ]
  },
  {
   "cell_type": "markdown",
   "id": "d88ef07a-d6ad-4c00-9d6a-e20a8cbb21d9",
   "metadata": {},
   "source": [
    "### Large Universe"
   ]
  },
  {
   "cell_type": "markdown",
   "id": "e642e900-a2b6-409f-ab87-05275a3cfc76",
   "metadata": {},
   "source": [
    "#### Zipline"
   ]
  },
  {
   "cell_type": "code",
   "execution_count": null,
   "id": "eb0ca9f0",
   "metadata": {},
   "outputs": [
    {
     "name": "stdout",
     "output_type": "stream",
     "text": [
      "CPU times: user 1.07 s, sys: 1.33 s, total: 2.4 s\n",
      "Wall time: 16min 17s\n"
     ]
    }
   ],
   "source": [
    "%%time \n",
    "backtest_zipline(\"zipline_large_universe\",\n",
    "        start_date=\"2012-01-01\",\n",
    "        end_date=\"2021-12-31\",\n",
    "        capital_base=100e3,\n",
    "        progress=\"Y\",\n",
    "        filepath_or_buffer=\"zipline_large_universe.csv\",\n",
    ")"
   ]
  }
 ],
 "metadata": {
  "kernelspec": {
   "display_name": "Python 3.9",
   "language": "python",
   "name": "python3"
  },
  "language_info": {
   "codemirror_mode": {
    "name": "ipython",
    "version": 3
   },
   "file_extension": ".py",
   "mimetype": "text/x-python",
   "name": "python",
   "nbconvert_exporter": "python",
   "pygments_lexer": "ipython3",
   "version": "3.9.12"
  }
 },
 "nbformat": 4,
 "nbformat_minor": 5
}
